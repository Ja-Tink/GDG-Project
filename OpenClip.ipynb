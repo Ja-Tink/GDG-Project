{
 "cells": [
  {
   "cell_type": "code",
   "execution_count": 44,
   "id": "d76b051b-07ba-4e3a-96aa-a4db91cd63b7",
   "metadata": {},
   "outputs": [],
   "source": [
    "import torch\n",
    "import open_clip\n",
    "import numpy as np\n",
    "import pandas as pd\n",
    "from PIL import Image\n",
    "\n",
    "class OpenClip:\n",
    "    def __init__(self):\n",
    "        self.model, _, self.preprocess = open_clip.create_model_and_transforms('ViT-B-32', pretrained='laion2b_s34b_b79k')\n",
    "        self.model.eval()  # model in train mode by default, impacts some models with BatchNorm or stochastic depth active\n",
    "        self.tokenizer = open_clip.get_tokenizer('ViT-B-32')\n",
    "\n",
    "    def displayImg(self, img_path: str):\n",
    "        \"\"\"Display an image\"\"\"\n",
    "        Image.open(img_path).show()\n",
    "\n",
    "    def encodeImage(self, img_path: str):\n",
    "        \"\"\"Encode image with OpenClip\"\"\"\n",
    "        img = Image.open(img_path)\n",
    "        image = self.preprocess(img).unsqueeze(0)\n",
    "        with torch.no_grad():\n",
    "            #encode image\n",
    "            image_features = self.model.encode_image(image)\n",
    "            image_features /= image_features.norm(dim=-1, keepdim=True)\n",
    "\n",
    "        return image_features\n",
    "\n",
    "    def encodeText(self, text_list: List[str]):\n",
    "        \"\"\"Encode text with OpenClip\"\"\"\n",
    "        text = self.tokenizer(text_list)\n",
    "        text_features = self.model.encode_text(text)\n",
    "        text_features /= text_features.norm(dim=-1, keepdim=True)\n",
    "\n",
    "        return text_features\n",
    "\n",
    "    def getCosineSim(self, image_features: torch.tensor, text_features: torch.tensor):\n",
    "        \"\"\"calculate cosine similarity\"\"\"\n",
    "        return (image_features @ text_features.T).detach()[0]\n",
    "        "
   ]
  },
  {
   "cell_type": "code",
   "execution_count": null,
   "id": "c6d3a9c6-a640-4663-bd66-bb9e928cbca1",
   "metadata": {},
   "outputs": [],
   "source": []
  },
  {
   "cell_type": "code",
   "execution_count": null,
   "id": "b45fb858-0a17-451d-88eb-ca8060589003",
   "metadata": {},
   "outputs": [],
   "source": []
  },
  {
   "cell_type": "code",
   "execution_count": null,
   "id": "cb287433-1360-46bd-bb48-c0debc214730",
   "metadata": {},
   "outputs": [],
   "source": []
  }
 ],
 "metadata": {
  "kernelspec": {
   "display_name": "Python 3 (ipykernel)",
   "language": "python",
   "name": "python3"
  },
  "language_info": {
   "codemirror_mode": {
    "name": "ipython",
    "version": 3
   },
   "file_extension": ".py",
   "mimetype": "text/x-python",
   "name": "python",
   "nbconvert_exporter": "python",
   "pygments_lexer": "ipython3",
   "version": "3.12.8"
  }
 },
 "nbformat": 4,
 "nbformat_minor": 5
}
